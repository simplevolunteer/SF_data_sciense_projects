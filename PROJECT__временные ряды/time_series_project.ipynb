{
 "cells": [
  {
   "cell_type": "markdown",
   "metadata": {},
   "source": [
    "__1.__ Прочитайте исходный файл с данными. Визуализируйте исходный временной ряд, сделайте первичные выводы о присутствии компонент тренда и сезонности в ряде.\n",
    "\n",
    "Отложите последние три года из датасета как тестовую выборку для оценки результатов предсказания.\n"
   ]
  },
  {
   "cell_type": "code",
   "execution_count": null,
   "metadata": {},
   "outputs": [],
   "source": [
    "import pandas as pd\n",
    "\n",
    "data = pd.read_csv(\"data/ghana_gdp.csv\", parse_dates=[\"year\"], index_col=[\"year\"])\n",
    "data.rename(columns = {'GDP (current US$)':'gdp'}, inplace = True )\n",
    "data.index"
   ]
  },
  {
   "cell_type": "code",
   "execution_count": null,
   "metadata": {},
   "outputs": [],
   "source": [
    "data.shape"
   ]
  },
  {
   "cell_type": "code",
   "execution_count": null,
   "metadata": {},
   "outputs": [],
   "source": [
    "# рисуем график \n",
    "from matplotlib import pyplot as plt\n",
    "\n",
    "%matplotlib inline\n",
    "\n",
    "plt.rcParams[\"figure.figsize\"] = 24, 12\n",
    "plt.rcParams[\"font.size\"] = 20\n",
    "plt.rcParams[\"xtick.labelsize\"] = 20\n",
    "plt.rcParams[\"ytick.labelsize\"] = 20\n",
    "plt.rcParams[\"lines.linewidth\"] = 4\n",
    "\n",
    "data.plot()\n",
    "plt.show()"
   ]
  },
  {
   "cell_type": "code",
   "execution_count": null,
   "metadata": {},
   "outputs": [],
   "source": [
    "# разделяем датасет на тренировочную и тестовую выборки \n",
    "train_df = data.loc[:\"2018-12-31\"] # c начала и до конца 2018\n",
    "test_df = data.loc[\"2019-01-01\":]  # c 2019 до конца\n",
    "train_df.shape, test_df.shape"
   ]
  },
  {
   "cell_type": "code",
   "execution_count": null,
   "metadata": {},
   "outputs": [],
   "source": [
    "# декомпозиция графика\n",
    "from statsmodels.tsa.seasonal import seasonal_decompose\n",
    "\n",
    "plt.rcParams[\"figure.figsize\"] = 18, 20\n",
    "\n",
    "result = seasonal_decompose(train_df.gdp)\n",
    "result.plot()\n",
    "plt.show()"
   ]
  },
  {
   "cell_type": "markdown",
   "metadata": {},
   "source": [
    "Выводы: в датасете присутствует явный тренд, без сезонной составляющей и шума."
   ]
  },
  {
   "cell_type": "markdown",
   "metadata": {},
   "source": [
    "__2.__ Постройте график скользящего среднего, проанализируйте результат. Для построения MA используйте метод rolling(), который принимает в качестве параметра размер окна. Используйте среднее как функцию для сглаживания. Ширину окна подберите самостоятельно."
   ]
  },
  {
   "cell_type": "code",
   "execution_count": 6,
   "metadata": {},
   "outputs": [],
   "source": [
    "def moving_av(data,w=1):\n",
    "    fig, ax = plt.subplots(nrows= 1 , ncols= 2, figsize = (16,4))\n",
    "    plt.rcParams[\"font.size\"] = 10\n",
    "    plt.rcParams[\"xtick.labelsize\"] = 10\n",
    "    plt.rcParams[\"ytick.labelsize\"] = 10\n",
    "    plt.rcParams[\"lines.linewidth\"] = 3\n",
    "    ax[0].plot(data, color=\"blue\")\n",
    "    ax[0].set_title(\"original\")\n",
    "    ax[1].plot(\n",
    "                data.rolling(window=w).mean(),\n",
    "                color=\"orange\"\n",
    "               )\n",
    "    ax[1].set_title(\"window = \" + str(w))    "
   ]
  },
  {
   "cell_type": "code",
   "execution_count": null,
   "metadata": {},
   "outputs": [],
   "source": [
    "for i in range(2,10):\n",
    "    moving_av(train_df.gdp,w=i)"
   ]
  },
  {
   "cell_type": "markdown",
   "metadata": {},
   "source": [
    "вывод: __window = 3__ описывает тренд и позволяет избегать выбросов. "
   ]
  },
  {
   "cell_type": "markdown",
   "metadata": {},
   "source": [
    "__3.__ помощью теста Дики-Фуллера оцените стационарность временного ряда и примите решение о выборе модели ARMA/ARIMA.\n"
   ]
  },
  {
   "cell_type": "code",
   "execution_count": 8,
   "metadata": {},
   "outputs": [],
   "source": [
    "from statsmodels.tsa.stattools import adfuller\n",
    "\n",
    "def chk_d(data, nbr_dif=0):\n",
    "    # функция ищет порядок диффенциирования до стационарности ряда или до значения nbr_dif\n",
    "    # nbr_dif - предельное кол-во раз диффренцирования.\n",
    "    d=0\n",
    "    while d<=nbr_dif:\n",
    "        if adfuller(data)[0] < adfuller(data)[4][\"5%\"]:\n",
    "            return print(f\"ряд стационарен. порядок диффренцирования 'd' = {d}\")\n",
    "        else:\n",
    "            print(f\"ряд не стационарен. порядок диффренцирования 'd' = {d}\")\n",
    "        data = data.diff().dropna()        \n",
    "        d+=1"
   ]
  },
  {
   "cell_type": "code",
   "execution_count": null,
   "metadata": {},
   "outputs": [],
   "source": [
    "chk_d(train_df, nbr_dif=3)"
   ]
  },
  {
   "cell_type": "markdown",
   "metadata": {},
   "source": [
    "Примечание. Если ваш ряд является нестационарным, дифференцируйте его до тех пор, пока он не станет таковым. Количество дифференцирований, необходимых для сведения ряда к стационарному, будет вашим параметром d для модели ARIMA."
   ]
  },
  {
   "cell_type": "markdown",
   "metadata": {},
   "source": [
    "вывод: выбираем __ARIMA. d=3__"
   ]
  },
  {
   "cell_type": "markdown",
   "metadata": {},
   "source": [
    "Параметры p и q выберите по коррелограммам ACF и PACF.\n",
    "Примечание. Помните, что параметры p и q для ARMA/ARIMA определяются из коррелограмм стационарного ряда. То есть, если ваш изначальный временной ряд не являлся стационарным, то коррелограммы строятся для разностей того порядка, которые являются стационарными."
   ]
  },
  {
   "cell_type": "code",
   "execution_count": 10,
   "metadata": {},
   "outputs": [],
   "source": [
    "# дифференцируем до 3-х\n",
    "data1 = train_df.diff().dropna() # 1\n",
    "data2 = data1.diff().dropna()    # 2\n",
    "data3 = data2.diff().dropna()    # 3"
   ]
  },
  {
   "cell_type": "code",
   "execution_count": null,
   "metadata": {},
   "outputs": [],
   "source": [
    "data3.head(2)"
   ]
  },
  {
   "cell_type": "code",
   "execution_count": null,
   "metadata": {},
   "outputs": [],
   "source": [
    "import statsmodels.graphics.tsaplots as sgt\n",
    "\n",
    "plt.rcParams[\"figure.figsize\"] = 20, 5\n",
    "sgt.plot_acf(data3.gdp, lags=20, zero=False)\n",
    "plt.show()"
   ]
  },
  {
   "cell_type": "code",
   "execution_count": null,
   "metadata": {},
   "outputs": [],
   "source": [
    "plt.rcParams[\"figure.figsize\"] = 20, 5\n",
    "sgt.plot_pacf(data3.gdp, lags=20, method=\"ywm\", zero=False)\n",
    "plt.show()"
   ]
  },
  {
   "cell_type": "markdown",
   "metadata": {},
   "source": [
    "__p = 6(по графику pacf) , q = 1(по графику acf)__"
   ]
  },
  {
   "cell_type": "markdown",
   "metadata": {},
   "source": [
    "Начнем построение модели **ARIMA** со следующими параметрами:\n",
    "\n",
    "- p = 6 \n",
    "- d = 3 \n",
    "- q = 1 "
   ]
  },
  {
   "cell_type": "code",
   "execution_count": null,
   "metadata": {},
   "outputs": [],
   "source": [
    "from statsmodels.tsa.arima.model import ARIMA\n",
    "\n",
    "arima_model = ARIMA(train_df[\"gdp\"].dropna(), order=(6, 3, 1))\n",
    "arima_model_fit = arima_model.fit()\n",
    "arima_model_fit.summary()"
   ]
  },
  {
   "cell_type": "markdown",
   "metadata": {},
   "source": [
    "Также постройте несколько моделей с параметрами, ближайшими к найденным p и q, и сравните коэффициент AIC (или подберите наилучшие параметры с помощью пакета pmdarima, как в скринкасте)."
   ]
  },
  {
   "cell_type": "code",
   "execution_count": null,
   "metadata": {},
   "outputs": [],
   "source": [
    "import pmdarima as pm\n",
    "\n",
    "smodel = pm.auto_arima(\n",
    "    train_df,\n",
    "    start_p=1,\n",
    "    d=3,\n",
    "    start_q=1,\n",
    "    max_p=12,\n",
    "    max_q=12,\n",
    "    test=\"adf\",\n",
    "    error_action=\"ignore\",\n",
    "    trace=True,\n",
    ")\n",
    "\n",
    "smodel.summary()"
   ]
  },
  {
   "cell_type": "markdown",
   "metadata": {},
   "source": [
    "Вывод: параметры подобранный вручную по критерию AIC оказались лучше. "
   ]
  },
  {
   "cell_type": "markdown",
   "metadata": {},
   "source": [
    "__4.__ Постройте модель с наилучшими параметрами и выполните предсказание для отложенной тестовой выборки (последние три года)."
   ]
  },
  {
   "cell_type": "code",
   "execution_count": 16,
   "metadata": {},
   "outputs": [],
   "source": [
    "pred_df = pd.DataFrame(index=data.index)\n",
    "\n",
    "# предсказание для тестовой выборки\n",
    "pred_df[\"model_preds\"] = arima_model_fit.predict(\n",
    "    start=test_df.index[0], end=test_df.index[-1]\n",
    ")\n",
    "\n",
    "pred_df[\"gdp\"] = data[\"gdp\"]\n",
    "\n",
    "forecast_arima = arima_model_fit.get_forecast(len(test_df.index))\n",
    "forecast_df = forecast_arima.conf_int(alpha=0.05)  # Confidence level of 95%"
   ]
  },
  {
   "cell_type": "code",
   "execution_count": 17,
   "metadata": {},
   "outputs": [],
   "source": [
    "pred_df.at[test_df.index, \"model_preds_lower\"] = forecast_df[\"lower gdp\"]\n",
    "pred_df.at[test_df.index, \"model_preds_upper\"] = forecast_df[\"upper gdp\"]"
   ]
  },
  {
   "cell_type": "markdown",
   "metadata": {},
   "source": [
    "__5.__ Отобразите результат графически — постройте графики истинного и предсказанного поведения временного ряда, а также 95%-ый доверительный интервал для прогноза."
   ]
  },
  {
   "cell_type": "code",
   "execution_count": null,
   "metadata": {},
   "outputs": [],
   "source": [
    "plt.rcParams[\"figure.figsize\"] = 18, 12\n",
    "\n",
    "plt.subplot(2, 1, 1)\n",
    "plt.plot(pred_df[\"gdp\"], color=\"blue\", label=\"Actuals\", alpha=0.4)\n",
    "\n",
    "plt.plot(\n",
    "    pred_df.loc[test_df.index][\"model_preds\"],\n",
    "    color=\"red\",\n",
    "    linestyle=\"-\",\n",
    "    label=\"Out of Sample Fit\",\n",
    ")\n",
    "\n",
    "plt.plot(\n",
    "    pred_df.loc[test_df.index][\"model_preds_lower\"],\n",
    "    color=\"green\",\n",
    "    linestyle=\"--\",\n",
    "    label=\"Confidence Intervals (95%)\",\n",
    "    alpha=0.4,\n",
    ")\n",
    "\n",
    "plt.plot(\n",
    "    pred_df.loc[test_df.index][\"model_preds_upper\"],\n",
    "    color=\"green\",\n",
    "    linestyle=\"--\",\n",
    "    alpha=0.4,\n",
    ")\n",
    "\n",
    "plt.title(\"Full Model Fit\", size=24)\n",
    "plt.legend()\n",
    "\n",
    "plt.subplot(2, 2, 3)\n",
    "\n",
    "plt.plot(\n",
    "    pred_df.loc[test_df.index][\"gdp\"], color=\"blue\", label=\"Actuals\", alpha=0.6\n",
    ")\n",
    "\n",
    "plt.plot(\n",
    "    pred_df.loc[test_df.index][\"model_preds\"],\n",
    "    color=\"red\",\n",
    "    linestyle=\"-\",\n",
    "    label=\"Out of Sample Fit\",\n",
    "    alpha=0.6,\n",
    ")\n",
    "\n",
    "plt.plot(\n",
    "    pred_df.loc[test_df.index][\"model_preds_lower\"],\n",
    "    color=\"green\",\n",
    "    linestyle=\"--\",\n",
    "    label=\"Confidence Intervals (95%)\",\n",
    "    alpha=0.6,\n",
    ")\n",
    "\n",
    "plt.plot(\n",
    "    pred_df.loc[test_df.index][\"model_preds_upper\"],\n",
    "    color=\"green\",\n",
    "    linestyle=\"--\",\n",
    "    alpha=0.6,\n",
    ")\n",
    "\n",
    "plt.title(\"Out of Sample Fit\", size=24)\n",
    "plt.legend()\n",
    "\n",
    "plt.show()"
   ]
  },
  {
   "cell_type": "markdown",
   "metadata": {},
   "source": [
    "__6.__ Сделайте выводы по полученным результатам.\n",
    "\n",
    "__*__ на части тестовых данных модель не уловила тренд\n",
    "\n",
    "__*__ по метрикам модель с подобранными вручную параметрами показали лучший результат"
   ]
  },
  {
   "cell_type": "markdown",
   "metadata": {},
   "source": [
    "__7.__ Проверьте данные на наличие пропущенных дат. Помимо визуального способа, это можно сделать с помощью метода DataFrame.asfreq(), передав в него параметр частоты, например ‘d’ — день, ‘m’ — месяц. Все алиасы для параметров частоты доступны по ссылке."
   ]
  },
  {
   "cell_type": "code",
   "execution_count": null,
   "metadata": {},
   "outputs": [],
   "source": [
    "data = pd.read_csv(\"data/ghana_gdp.csv\", parse_dates=[\"year\"], index_col=[\"year\"])\n",
    "data.rename(columns = {'GDP (current US$)':'gdp'}, inplace = True )\n",
    "data.index"
   ]
  },
  {
   "cell_type": "code",
   "execution_count": null,
   "metadata": {},
   "outputs": [],
   "source": [
    "print('размер до обработки: {}.'.format(data.shape[0]))\n",
    "data = data.asfreq(freq='AS')\n",
    "print('размер после обработки: {}.'.format(data.shape[0]))"
   ]
  },
  {
   "cell_type": "code",
   "execution_count": 21,
   "metadata": {},
   "outputs": [],
   "source": [
    "# заменяем нули на NaN\n",
    "import numpy as np\n",
    "data['gdp'] = data['gdp'].apply(lambda x: np.nan if x==0 else x)"
   ]
  },
  {
   "cell_type": "code",
   "execution_count": null,
   "metadata": {},
   "outputs": [],
   "source": [
    "# имеем одну NaN строку\n",
    "data['gdp'].isnull().sum()"
   ]
  },
  {
   "cell_type": "code",
   "execution_count": 23,
   "metadata": {},
   "outputs": [],
   "source": [
    "# заменяем NaN значение на интерполированное\n",
    "data['gdp'].interpolate(method='linear', inplace=True)"
   ]
  },
  {
   "cell_type": "markdown",
   "metadata": {},
   "source": [
    "+ Проверьте полученный ряд на стационарность, определите параметры модели (ARIMA/ARMA) и запустите модель.\n",
    "+ Изменился ли AIC критерий построенной модели по сравнению с моделью на неинтерполированных данных? Сделайте вывод."
   ]
  },
  {
   "cell_type": "code",
   "execution_count": null,
   "metadata": {},
   "outputs": [],
   "source": [
    "# проверяем на стационарность и определим параметр d (d=3)\n",
    "chk_d(data, nbr_dif=4)"
   ]
  },
  {
   "cell_type": "code",
   "execution_count": 25,
   "metadata": {},
   "outputs": [],
   "source": [
    "# проверим другие параметры модели по кореллограмам\n",
    "data1 = train_df.diff().dropna() # 1\n",
    "data2 = data1.diff().dropna()    # 2\n",
    "data3 = data2.diff().dropna()    # 3"
   ]
  },
  {
   "cell_type": "code",
   "execution_count": null,
   "metadata": {},
   "outputs": [],
   "source": [
    "plt.rcParams[\"figure.figsize\"] = 20, 5\n",
    "sgt.plot_acf(data3.gdp, lags=20, zero=False)\n",
    "plt.show()"
   ]
  },
  {
   "cell_type": "code",
   "execution_count": null,
   "metadata": {},
   "outputs": [],
   "source": [
    "plt.rcParams[\"figure.figsize\"] = 20, 5\n",
    "sgt.plot_pacf(data3.gdp, lags=20, method=\"ywm\", zero=False)\n",
    "plt.show()"
   ]
  },
  {
   "cell_type": "markdown",
   "metadata": {},
   "source": [
    "__p = 6(по графику pacf) , q = 1(по графику acf)__ параметры не изменились"
   ]
  },
  {
   "cell_type": "code",
   "execution_count": null,
   "metadata": {},
   "outputs": [],
   "source": [
    "# запускаем ARIMA\n",
    "train_df = data.iloc[:-3]\n",
    "test_df = data.iloc[-3:]\n",
    "arima_model = ARIMA(train_df[\"gdp\"].dropna(), order=(6, 3, 1))\n",
    "arima_model_fit = arima_model.fit()\n",
    "arima_model_fit.summary()"
   ]
  },
  {
   "cell_type": "code",
   "execution_count": null,
   "metadata": {},
   "outputs": [],
   "source": [
    "plt.rcParams[\"figure.figsize\"] = 18, 12\n",
    "\n",
    "plt.subplot(2, 1, 1)\n",
    "plt.plot(pred_df[\"gdp\"], color=\"blue\", label=\"Actuals\", alpha=0.4)\n",
    "\n",
    "plt.plot(\n",
    "    pred_df.loc[test_df.index][\"model_preds\"],\n",
    "    color=\"red\",\n",
    "    linestyle=\"-\",\n",
    "    label=\"Out of Sample Fit\",\n",
    ")\n",
    "\n",
    "plt.plot(\n",
    "    pred_df.loc[test_df.index][\"model_preds_lower\"],\n",
    "    color=\"green\",\n",
    "    linestyle=\"--\",\n",
    "    label=\"Confidence Intervals (95%)\",\n",
    "    alpha=0.4,\n",
    ")\n",
    "\n",
    "plt.plot(\n",
    "    pred_df.loc[test_df.index][\"model_preds_upper\"],\n",
    "    color=\"green\",\n",
    "    linestyle=\"--\",\n",
    "    alpha=0.4,\n",
    ")\n",
    "\n",
    "plt.title(\"Full Model Fit\", size=24)\n",
    "plt.legend()\n",
    "\n",
    "plt.subplot(2, 2, 3)\n",
    "\n",
    "plt.plot(\n",
    "    pred_df.loc[test_df.index][\"gdp\"], color=\"blue\", label=\"Actuals\", alpha=0.6\n",
    ")\n",
    "\n",
    "plt.plot(\n",
    "    pred_df.loc[test_df.index][\"model_preds\"],\n",
    "    color=\"red\",\n",
    "    linestyle=\"-\",\n",
    "    label=\"Out of Sample Fit\",\n",
    "    alpha=0.6,\n",
    ")\n",
    "\n",
    "plt.plot(\n",
    "    pred_df.loc[test_df.index][\"model_preds_lower\"],\n",
    "    color=\"green\",\n",
    "    linestyle=\"--\",\n",
    "    label=\"Confidence Intervals (95%)\",\n",
    "    alpha=0.6,\n",
    ")\n",
    "\n",
    "plt.plot(\n",
    "    pred_df.loc[test_df.index][\"model_preds_upper\"],\n",
    "    color=\"green\",\n",
    "    linestyle=\"--\",\n",
    "    alpha=0.6,\n",
    ")\n",
    "\n",
    "plt.title(\"Out of Sample Fit\", size=24)\n",
    "plt.legend()\n",
    "\n",
    "plt.show()"
   ]
  },
  {
   "cell_type": "markdown",
   "metadata": {},
   "source": [
    "+ Показатель AIC слегка улучшился(2628.95 против 2629.140). Но явно недостаточно, так как поменялось одно значение в данных"
   ]
  },
  {
   "cell_type": "markdown",
   "metadata": {},
   "source": [
    "+ Посчитайте волатильность для вашего временного ряда.\n",
    "+ Используйте GARCH-модель для предсказания волатильности.\n",
    "+ Используйте линейную регрессию для получения прогноза.\n",
    "+ Визуализируйте полученное предсказание вместе с фактическим значением.\n",
    "+ Сравните результаты и сделайте выводы.\n",
    " Почему результат модели GARCH получился именно таким?"
   ]
  },
  {
   "cell_type": "code",
   "execution_count": null,
   "metadata": {},
   "outputs": [],
   "source": [
    "data[\"gdp_volat\"] = data['gdp'].pct_change(1).mul(100).abs()\n",
    "data[\"gdp_volat\"].plot()\n",
    "plt.show()"
   ]
  },
  {
   "cell_type": "code",
   "execution_count": 32,
   "metadata": {},
   "outputs": [],
   "source": [
    "train_df = data.iloc[:-3]\n",
    "test_df = data.iloc[-3:]"
   ]
  },
  {
   "cell_type": "code",
   "execution_count": null,
   "metadata": {},
   "outputs": [],
   "source": [
    "m_value = train_df.gdp_volat.median()\n",
    "train_df.fillna(value=m_value, inplace=True )"
   ]
  },
  {
   "cell_type": "code",
   "execution_count": null,
   "metadata": {},
   "outputs": [],
   "source": [
    "train_df.head()"
   ]
  },
  {
   "cell_type": "code",
   "execution_count": null,
   "metadata": {},
   "outputs": [],
   "source": [
    "chk_d(train_df.gdp_volat, nbr_dif=3)"
   ]
  },
  {
   "cell_type": "code",
   "execution_count": null,
   "metadata": {},
   "outputs": [],
   "source": [
    "# выбираем параметр p = 7\n",
    "sgt.plot_pacf(train_df.gdp_volat, lags=20, method=\"ywm\")\n",
    "plt.show()"
   ]
  },
  {
   "cell_type": "code",
   "execution_count": 37,
   "metadata": {},
   "outputs": [],
   "source": [
    "# нам важно сохранить объем датасета, поэтому берем за исходные данные весь датасет с индексами, который содержит\n",
    "# и train и test часть\n",
    "garch_df = pd.DataFrame(data[\"gdp_volat\"].loc[data.index])"
   ]
  },
  {
   "cell_type": "code",
   "execution_count": null,
   "metadata": {},
   "outputs": [],
   "source": [
    "#! pip install arch\n",
    "from arch import arch_model\n",
    "model = arch_model(garch_df[\"gdp_volat\"].dropna(), p=7, q=0, vol='GARCH')\n",
    "model_results = model.fit(last_obs=test_df.index[0], update_freq=5)\n",
    "model_results.summary()"
   ]
  },
  {
   "cell_type": "code",
   "execution_count": null,
   "metadata": {},
   "outputs": [],
   "source": [
    "test_df[\"Predictions\"] = model_results.forecast().residual_variance.loc[test_df.index]\n",
    "test_df.head()"
   ]
  },
  {
   "cell_type": "code",
   "execution_count": null,
   "metadata": {},
   "outputs": [],
   "source": [
    "plt.rcParams[\"figure.figsize\"] = 18, 5\n",
    "\n",
    "plt.plot(test_df[\"gdp_volat\"].abs(), color = 'Green', label = 'Real')\n",
    "plt.plot(test_df[\"Predictions\"] , color = 'Red', label = 'Prediction')\n",
    "\n",
    "plt.title(\"Actuals vs Predictions for GDP Volatility\", size=24)\n",
    "plt.legend()\n",
    "plt.show()"
   ]
  },
  {
   "cell_type": "code",
   "execution_count": null,
   "metadata": {},
   "outputs": [],
   "source": [
    "import numpy as np\n",
    "from sklearn.metrics import mean_squared_error\n",
    "\n",
    "print('MSE score: {:.3f} '.format((mean_squared_error(test_df['gdp_volat'], \n",
    "                                                                     test_df['Predictions']))))"
   ]
  },
  {
   "cell_type": "code",
   "execution_count": null,
   "metadata": {},
   "outputs": [],
   "source": [
    "from sklearn.linear_model import LinearRegression\n",
    "\n",
    "X_train = pd.DataFrame(range(data[\"gdp\"].shape[0]))[\n",
    "    : train_df.shape[0]\n",
    "].fillna(0)\n",
    "X_test = pd.DataFrame(range(data[\"gdp\"].shape[0]))[\n",
    "    train_df.shape[0] :\n",
    "].fillna(0)\n",
    "y_train = train_df[\"gdp\"].fillna(0)\n",
    "y_test = test_df[\"gdp\"].fillna(0)\n",
    "\n",
    "\n",
    "lr = LinearRegression()\n",
    "lr.fit(X_train, y_train)\n",
    "lr_predict = lr.predict(X_test)\n",
    "\n",
    "\n",
    "plt.plot(y_test, color = 'Green', label='Real')\n",
    "plt.plot(pd.Series(lr_predict, index=y_test.index), color='Red', label='Predict')\n",
    "plt.legend()\n",
    "plt.show()"
   ]
  },
  {
   "cell_type": "markdown",
   "metadata": {},
   "source": [
    "Вывод: недостаток обучающих данных не позволил обучить модель которая бы отработала дисперсию. Линейная модель с параметрами по умолчанию также не сумела построить нормальную модель."
   ]
  }
 ],
 "metadata": {
  "kernelspec": {
   "display_name": "base",
   "language": "python",
   "name": "python3"
  },
  "language_info": {
   "codemirror_mode": {
    "name": "ipython",
    "version": 3
   },
   "file_extension": ".py",
   "mimetype": "text/x-python",
   "name": "python",
   "nbconvert_exporter": "python",
   "pygments_lexer": "ipython3",
   "version": "3.11.7"
  }
 },
 "nbformat": 4,
 "nbformat_minor": 2
}
